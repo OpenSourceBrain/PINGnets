{
 "cells": [
  {
   "cell_type": "code",
   "execution_count": 1,
   "metadata": {
    "collapsed": true
   },
   "outputs": [],
   "source": [
    "from math import exp \n",
    "\n",
    "from pyneuroml.analysis.ChannelHelper import evaluate_HHExpRate, evaluate_HHExpLinearRate, evaluate_HHSigmoidRate\n"
   ]
  },
  {
   "cell_type": "code",
   "execution_count": 2,
   "metadata": {
    "collapsed": false,
    "deletable": true,
    "editable": true
   },
   "outputs": [
    {
     "name": "stdout",
     "output_type": "stream",
     "text": [
      "17.2800236902 per_ms\n",
      "17.2800236902 per_ms\n",
      "pyNeuroML >>> Evaluating: rate * ((v - (midpoint))/scale) / ( 1 - exp(-1 * (v - (midpoint)) / scale)) \n",
      "pyNeuroML >>>             1.28per_ms * ((v - (-54mV))/4mV) / ( 1 - exp(-1 * (v - (-54mV)) / 4mV))  for v = 0mV\n",
      "pyNeuroML >>>             1280.0 * ((0.0 - (-0.054))/0.004) / ( 1 - exp(-1 * (0.0 - (-0.054)) / 0.004)) \n",
      "pyNeuroML >>>             <... type=\"HHExpLinearRate\" rate=\"1.28per_ms\" midpoint=\"-54mV\" scale=\"4mV\" />\n",
      "pyNeuroML >>>    = 17280.0236902 per_s\n",
      "pyNeuroML >>>    = 17.2800236902 per_ms\n"
     ]
    }
   ],
   "source": [
    "v = 0 # mV \n",
    "\n",
    "rate_alpha_m0 = 0.32 *(v+54)     / (1- exp(-1*(v+54)/4.))         # From chapter eqn 4\n",
    "rate_alpha_m = (1.28 *(v - -54)/4.) / (1- exp(-1*(v- -54)/4.))    # Restructured\n",
    "\n",
    "print('%s per_ms'%rate_alpha_m0)\n",
    "print('%s per_ms'%rate_alpha_m)\n",
    "evaluate_HHExpLinearRate(\"1.28per_ms\", \"-54mV\", \"4mV\",'%smV'%v)\n",
    "\n"
   ]
  },
  {
   "cell_type": "code",
   "execution_count": 3,
   "metadata": {
    "collapsed": false,
    "deletable": true,
    "editable": true
   },
   "outputs": [
    {
     "name": "stdout",
     "output_type": "stream",
     "text": [
      "0.0343002718805 per_ms\n",
      "0.0343002718805 per_ms\n",
      "pyNeuroML >>> Evaluating: rate * ((v - (midpoint))/scale) / ( 1 - exp(-1 * (v - (midpoint)) / scale)) \n",
      "pyNeuroML >>>             1.4per_ms * ((v - (-27mV))/-5mV) / ( 1 - exp(-1 * (v - (-27mV)) / -5mV))  for v = 0mV\n",
      "pyNeuroML >>>             1400.0 * ((0.0 - (-0.027))/-0.005) / ( 1 - exp(-1 * (0.0 - (-0.027)) / -0.005)) \n",
      "pyNeuroML >>>             <... type=\"HHExpLinearRate\" rate=\"1.4per_ms\" midpoint=\"-27mV\" scale=\"-5mV\" />\n",
      "pyNeuroML >>>    = 34.3002718805 per_s\n",
      "pyNeuroML >>>    = 0.0343002718805 per_ms\n"
     ]
    }
   ],
   "source": [
    "\n",
    "rate_beta_m_0 = (0.28 *(v+27)) / (exp((v+27)/5.)-1)                # From chapter eqn 4\n",
    "rate_beta_m = (1.4 *(v - -27.)/-5.) / (1- exp(-1*(v- - 27.)/-5.))  # Restructured\n",
    "\n",
    "rate_beta_m_nml = 1.4e3 * (v - (-0.027))/-0.005 / ( 1 - exp(-(v - (-0.027)) / -0.005))\n",
    "\n",
    "print('%s per_ms'%rate_beta_m_0)\n",
    "print('%s per_ms'%rate_beta_m)\n",
    "evaluate_HHExpLinearRate(\"1.4per_ms\", \"-27mV\", \"-5mV\",'%smV'%v)"
   ]
  },
  {
   "cell_type": "code",
   "execution_count": 4,
   "metadata": {
    "collapsed": false
   },
   "outputs": [
    {
     "name": "stdout",
     "output_type": "stream",
     "text": [
      "0.00795859507483 per_ms\n",
      "pyNeuroML >>> Evaluating: rate * exp( (v - midpoint) / scale) \n",
      "pyNeuroML >>>             0.128per_ms * exp( (v - (-50mV)) / -18mV)  for v = 0mV\n",
      "pyNeuroML >>>             128.0 * exp( (0.0 - (-0.05)) / -0.018) \n",
      "pyNeuroML >>>             <... type=\"HHExpRate\" rate=\"0.128per_ms\" midpoint=\"-50mV\" scale=\"-18mV\" />\n",
      "pyNeuroML >>>    = 7.95859507483 per_s\n",
      "pyNeuroML >>>    = 0.00795859507483 per_ms\n"
     ]
    }
   ],
   "source": [
    "rate_alpha_h0 = 0.128*exp(-1*(v+50)/18.)  # From chapter \n",
    "\n",
    "print('%s per_ms'%rate_alpha_h0)\n",
    "\n",
    "evaluate_HHExpRate('0.128per_ms','-50mV','-18mV','%smV'%v)"
   ]
  },
  {
   "cell_type": "code",
   "execution_count": 5,
   "metadata": {
    "collapsed": false
   },
   "outputs": [
    {
     "name": "stdout",
     "output_type": "stream",
     "text": [
      "3.98201490736 per_ms\n",
      "pyNeuroML >>> Evaluating: rate / (1 + exp(-1 * (v - midpoint)/scale))  \n",
      "pyNeuroML >>>             4per_ms / ( 1 + exp(-1 * (v - (-27mV)) / 5mV))  for v = 0mV\n",
      "pyNeuroML >>>             4000.0 / ( 1 + exp(-1 * (0.0 - (-0.027)) / 0.005)) \n",
      "pyNeuroML >>>             <... type=\"HHSigmoidRate\" rate=\"4per_ms\" midpoint=\"-27mV\" scale=\"5mV\" />\n",
      "pyNeuroML >>>    = 3982.01490736 per_s\n",
      "pyNeuroML >>>    = 3.98201490736 per_ms\n"
     ]
    }
   ],
   "source": [
    "rate_beta_h0 = 4/(1+exp(-1*(v+27)/5.))  # From chapter \n",
    "\n",
    "print('%s per_ms'%rate_beta_h0)\n",
    "\n",
    "evaluate_HHSigmoidRate('4per_ms','-27mV','5mV','%smV'%v)"
   ]
  },
  {
   "cell_type": "code",
   "execution_count": 6,
   "metadata": {
    "collapsed": false
   },
   "outputs": [
    {
     "name": "stdout",
     "output_type": "stream",
     "text": [
      "1.66405064119 per_ms\n",
      "1.66405064119 per_ms\n",
      "pyNeuroML >>> Evaluating: rate * ((v - (midpoint))/scale) / ( 1 - exp(-1 * (v - (midpoint)) / scale)) \n",
      "pyNeuroML >>>             0.16per_ms * ((v - (-52mV))/5mV) / ( 1 - exp(-1 * (v - (-52mV)) / 5mV))  for v = 0mV\n",
      "pyNeuroML >>>             160.0 * ((0.0 - (-0.052))/0.005) / ( 1 - exp(-1 * (0.0 - (-0.052)) / 0.005)) \n",
      "pyNeuroML >>>             <... type=\"HHExpLinearRate\" rate=\"0.16per_ms\" midpoint=\"-52mV\" scale=\"5mV\" />\n",
      "pyNeuroML >>>    = 1664.05064119 per_s\n",
      "pyNeuroML >>>    = 1.66405064119 per_ms\n"
     ]
    }
   ],
   "source": [
    "rate_alpha_n0 = 0.032*(v+52)/(1-exp(-1*(v+52)/5.))\n",
    "rate_alpha_n = (0.16*(v- -52)/5.)/(1-exp(-1*(v- -52)/5.))\n",
    "\n",
    "print('%s per_ms'%rate_alpha_n0)\n",
    "print('%s per_ms'%rate_alpha_n)\n",
    "\n",
    "evaluate_HHExpLinearRate(\"0.16per_ms\", \"-52mV\", \"5mV\",'%smV'%v)\n"
   ]
  },
  {
   "cell_type": "code",
   "execution_count": 7,
   "metadata": {
    "collapsed": false,
    "deletable": true,
    "editable": true
   },
   "outputs": [
    {
     "name": "stdout",
     "output_type": "stream",
     "text": [
      "0.120254231604 per_ms\n",
      "pyNeuroML >>> Evaluating: rate * exp( (v - midpoint) / scale) \n",
      "pyNeuroML >>>             0.5per_ms * exp( (v - (-57mV)) / -40mV)  for v = 0mV\n",
      "pyNeuroML >>>             500.0 * exp( (0.0 - (-0.057)) / -0.04) \n",
      "pyNeuroML >>>             <... type=\"HHExpRate\" rate=\"0.5per_ms\" midpoint=\"-57mV\" scale=\"-40mV\" />\n",
      "pyNeuroML >>>    = 120.254231604 per_s\n",
      "pyNeuroML >>>    = 0.120254231604 per_ms\n"
     ]
    }
   ],
   "source": [
    "rate_beta_n0 = 0.5 * exp(-1*(v+57)/40.)  # From chapter \n",
    "\n",
    "print('%s per_ms'%rate_beta_n0)\n",
    "\n",
    "evaluate_HHExpRate('0.5per_ms','-57mV','-40mV','%smV'%v)"
   ]
  },
  {
   "cell_type": "code",
   "execution_count": null,
   "metadata": {
    "collapsed": true
   },
   "outputs": [],
   "source": []
  }
 ],
 "metadata": {
  "kernelspec": {
   "display_name": "Python 2",
   "language": "python",
   "name": "python2"
  },
  "language_info": {
   "codemirror_mode": {
    "name": "ipython",
    "version": 2
   },
   "file_extension": ".py",
   "mimetype": "text/x-python",
   "name": "python",
   "nbconvert_exporter": "python",
   "pygments_lexer": "ipython2",
   "version": "2.7.14"
  }
 },
 "nbformat": 4,
 "nbformat_minor": 2
}
